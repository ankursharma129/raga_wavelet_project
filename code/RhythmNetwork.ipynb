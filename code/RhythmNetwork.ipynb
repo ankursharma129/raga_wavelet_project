{
 "cells": [
  {
   "cell_type": "code",
   "execution_count": 1,
   "id": "c3440206",
   "metadata": {},
   "outputs": [],
   "source": [
    "import glob\n",
    "import os\n",
    "import numpy as np\n",
    "import networkx as nx\n",
    "import matplotlib.pyplot as plt\n",
    "import pandas as pd\n",
    "import ipycytoscape\n",
    "from ipycytoscape import *"
   ]
  },
  {
   "cell_type": "code",
   "execution_count": 2,
   "id": "8831e88a",
   "metadata": {},
   "outputs": [
    {
     "ename": "SyntaxError",
     "evalue": "invalid non-printable character U+00A0 (860060339.py, line 9)",
     "output_type": "error",
     "traceback": [
      "\u001b[0;36m  File \u001b[0;32m\"/tmp/ipykernel_105/860060339.py\"\u001b[0;36m, line \u001b[0;32m9\u001b[0m\n\u001b[0;31m    tr.append((tr_str[j].split(\",\")))\u001b[0m\n\u001b[0m    ^\u001b[0m\n\u001b[0;31mSyntaxError\u001b[0m\u001b[0;31m:\u001b[0m invalid non-printable character U+00A0\n"
     ]
    }
   ],
   "source": [
    "path = \"Mlk.krn.gr\"\n",
    "\n",
    "df=pd.read_csv(path, sep='\\t', header=None)\n",
    "df.columns=[\"transitions\", \"weights\"]\n",
    "display(df)\n",
    "tr_str=np.array(df[\"transitions\"])\n",
    "tr=[]\n",
    "for j in range(len(tr_str)):\n",
    "    tr.append((tr_str[j].split(\",\")))\n",
    "withcomma=[]\n",
    "for ind in range(len(tr)):\n",
    "    withcomma.append((tr[ind][0].split(\" \")))\n",
    "#     print(withcomma)\n",
    "swaras=np.unique(np.array(withcomma).flatten())\n",
    "\n",
    "A = nx.DiGraph()\n",
    "A.add_nodes_from(swaras)\n",
    "A.add_edges_from(withcomma)\n",
    "weights=df[\"weights\"]\n",
    "# plt.subplot(g_id)\n",
    "nx.draw(A, with_labels=True, font_weight='bold', width=weights, node_size=1000, edge_color=\"grey\", font_size=20, node_color=\"skyblue\", node_shape=\"o\", alpha=0.8, font_color=\"grey\")\n",
    "A.degree(swaras)"
   ]
  },
  {
   "cell_type": "code",
   "execution_count": null,
   "id": "4034366e",
   "metadata": {},
   "outputs": [],
   "source": []
  }
 ],
 "metadata": {
  "kernelspec": {
   "display_name": "Python 3 (clean)",
   "language": "python",
   "name": "python3_clean"
  },
  "language_info": {
   "codemirror_mode": {
    "name": "ipython",
    "version": 3
   },
   "file_extension": ".py",
   "mimetype": "text/x-python",
   "name": "python",
   "nbconvert_exporter": "python",
   "pygments_lexer": "ipython3",
   "version": "3.9.5"
  }
 },
 "nbformat": 4,
 "nbformat_minor": 5
}
