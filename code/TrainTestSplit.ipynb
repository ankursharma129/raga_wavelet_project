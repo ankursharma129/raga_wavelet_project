{
 "cells": [
  {
   "cell_type": "code",
   "execution_count": 1,
   "id": "7569dc9e",
   "metadata": {},
   "outputs": [],
   "source": [
    "import pickle\n",
    "import tensorflow as tf\n",
    "import numpy as np\n",
    "import math"
   ]
  },
  {
   "cell_type": "code",
   "execution_count": null,
   "id": "9159cc51",
   "metadata": {},
   "outputs": [],
   "source": [
    "def calculate_max(objects):\n",
    "    maxVal = 0\n",
    "    for i in range(3000):\n",
    "        if np.shape(objects[i][list(objects[i].keys())[0]])[0] > maxVal:\n",
    "            maxVal = np.shape(objects[i][list(objects[i].keys())[0]])[0]\n",
    "    return maxVal\n",
    "\n",
    "def calculate_min(objects):\n",
    "    minVal = 900000\n",
    "    for i in range(3000):\n",
    "        if np.shape(objects[i][list(objects[i].keys())[0]])[0] < minVal:\n",
    "            minVal = np.shape(objects[i][list(objects[i].keys())[0]])[0]\n",
    "    return minVal"
   ]
  },
  {
   "cell_type": "code",
   "execution_count": null,
   "id": "0e7fbdbc",
   "metadata": {},
   "outputs": [],
   "source": [
    "def random_crop(image, NEW_IMG_HEIGHT, NEW_IMG_WIDTH):\n",
    "    return tf.image.random_crop(image, size=[NEW_IMG_HEIGHT, NEW_IMG_WIDTH, 20])"
   ]
  },
  {
   "cell_type": "code",
   "execution_count": 2,
   "id": "fd98d28d",
   "metadata": {},
   "outputs": [],
   "source": [
    "def readObjectsFromFile(fName, objects):\n",
    "    with (open(fName, \"rb\")) as openfile:\n",
    "        while True:\n",
    "            try:\n",
    "                objects.append(pickle.load(openfile))\n",
    "            except EOFError:\n",
    "                break"
   ]
  },
  {
   "cell_type": "code",
   "execution_count": null,
   "id": "0aac48d4",
   "metadata": {},
   "outputs": [],
   "source": [
    "def goodCrops(shape, minVal):\n",
    "    return math.ceil(shape/minVal)*4"
   ]
  },
  {
   "cell_type": "code",
   "execution_count": null,
   "id": "89b05891",
   "metadata": {},
   "outputs": [],
   "source": [
    "def isTest(tag):\n",
    "    sp = tag.split(\"_\")\n",
    "    iteration = sp[2].split(\".\")[0]\n",
    "    if int(iteration)<=4:\n",
    "        return True\n",
    "    return False"
   ]
  },
  {
   "cell_type": "code",
   "execution_count": null,
   "id": "e40139b8",
   "metadata": {},
   "outputs": [],
   "source": [
    "def process()\n",
    "    x_train = []\n",
    "    y_train = []\n",
    "    x_test = []\n",
    "    y_test = []\n",
    "    objects = []\n",
    "    readObjectsFromFile(fileName, objects)\n",
    "    mNum = calculate_min(objects)\n",
    "    for i in range(len(objects)):\n",
    "        tag = list(objects[i].keys())[0]\n",
    "        goodC = goodCrops(np.shape(objects[i][tag])[0], mNum)\n",
    "        for j in range(goodC):\n",
    "            im = random_crop(objects[i][tag], mNum, 4)\n",
    "            if isTest(tag):\n",
    "                x_test.append(im)\n",
    "                y_test.append(int(tag.split(\"_\")[0]))\n",
    "            else:\n",
    "                x_train.append(im)\n",
    "                y_train.append(int(tag.split(\"_\")[0]))"
   ]
  },
  {
   "cell_type": "code",
   "execution_count": null,
   "id": "491204d1",
   "metadata": {},
   "outputs": [],
   "source": [
    "y_test = np.reshape(y_test, (953,1))"
   ]
  },
  {
   "cell_type": "code",
   "execution_count": null,
   "id": "9730f6ff",
   "metadata": {},
   "outputs": [],
   "source": [
    "pickleFileData = \"google.pickle\"\n",
    "def pickleFile(pName, x_train, y_train, x_test, y_test):\n",
    "    with open(pName, 'wb') as handle:\n",
    "        pickle.dump({\"x_train\": x_train, \"y_train\": y_train, \"x_test\": x_test, \"y_test\": y_test}, handle, protocol=pickle.HIGHEST_PROTOCOL)\n",
    "\n",
    "pickleFile(pickleFileData, x_train, y_train, x_test, y_test)"
   ]
  },
  {
   "cell_type": "code",
   "execution_count": 3,
   "id": "ccdf1c69",
   "metadata": {},
   "outputs": [],
   "source": [
    "objects = []\n",
    "readObjectsFromFile(\"google.pickle\", objects)"
   ]
  },
  {
   "cell_type": "code",
   "execution_count": 6,
   "id": "919c16c3",
   "metadata": {},
   "outputs": [
    {
     "data": {
      "text/plain": [
       "(1, 64, 501)"
      ]
     },
     "execution_count": 6,
     "metadata": {},
     "output_type": "execute_result"
    }
   ],
   "source": [
    "np.shape(objects[0]['MFCC'][0])"
   ]
  },
  {
   "cell_type": "code",
   "execution_count": null,
   "id": "71cb30db",
   "metadata": {},
   "outputs": [],
   "source": []
  }
 ],
 "metadata": {
  "kernelspec": {
   "display_name": "Python 3 (clean)",
   "language": "python",
   "name": "python3_clean"
  },
  "language_info": {
   "codemirror_mode": {
    "name": "ipython",
    "version": 3
   },
   "file_extension": ".py",
   "mimetype": "text/x-python",
   "name": "python",
   "nbconvert_exporter": "python",
   "pygments_lexer": "ipython3",
   "version": "3.9.5"
  }
 },
 "nbformat": 4,
 "nbformat_minor": 5
}
