{
 "cells": [
  {
   "cell_type": "code",
   "execution_count": null,
   "metadata": {
    "_cell_guid": "b1076dfc-b9ad-4769-8c92-a6c4dae69d19",
    "_uuid": "8f2839f25d086af736a60e9eeb907d3b93b6e0e5",
    "execution": {
     "iopub.execute_input": "2021-10-03T11:49:17.713994Z",
     "iopub.status.busy": "2021-10-03T11:49:17.713143Z",
     "iopub.status.idle": "2021-10-03T11:49:17.719487Z",
     "shell.execute_reply": "2021-10-03T11:49:17.719056Z",
     "shell.execute_reply.started": "2021-10-03T05:52:50.692775Z"
    },
    "papermill": {
     "duration": 0.044793,
     "end_time": "2021-10-03T11:49:17.719580",
     "exception": false,
     "start_time": "2021-10-03T11:49:17.674787",
     "status": "completed"
    },
    "tags": []
   },
   "outputs": [],
   "source": [
    "import os\n",
    "for dirname, _, filenames in os.walk('./'):\n",
    "    for filename in filenames:\n",
    "        print(os.path.join(dirname, filename))"
   ]
  },
  {
   "cell_type": "code",
   "execution_count": null,
   "metadata": {
    "execution": {
     "iopub.execute_input": "2021-10-03T11:49:17.798982Z",
     "iopub.status.busy": "2021-10-03T11:49:17.798388Z",
     "iopub.status.idle": "2021-10-03T11:49:19.651363Z",
     "shell.execute_reply": "2021-10-03T11:49:19.650441Z",
     "shell.execute_reply.started": "2021-10-03T05:52:50.706555Z"
    },
    "papermill": {
     "duration": 1.896229,
     "end_time": "2021-10-03T11:49:19.651472",
     "exception": false,
     "start_time": "2021-10-03T11:49:17.755243",
     "status": "completed"
    },
    "tags": []
   },
   "outputs": [],
   "source": [
    "from os.path import isdir, join\n",
    "from pathlib import Path\n",
    "import pandas as pd\n",
    "\n",
    "# Math\n",
    "import numpy as np\n",
    "from scipy.fftpack import fft\n",
    "from scipy import signal\n",
    "from scipy.io import wavfile\n",
    "import librosa\n",
    "import math\n",
    "from sklearn.decomposition import PCA\n",
    "\n",
    "# Visualization\n",
    "import matplotlib.pyplot as plt\n",
    "import seaborn as sns\n",
    "import IPython.display as ipd\n",
    "import librosa.display\n",
    "\n",
    "import plotly.offline as py\n",
    "py.init_notebook_mode(connected=True)\n",
    "import plotly.graph_objs as go\n",
    "import plotly.tools as tls\n",
    "import pandas as pd\n",
    "\n",
    "%matplotlib inline"
   ]
  },
  {
   "cell_type": "code",
   "execution_count": null,
   "metadata": {
    "_cell_guid": "79c7e3d0-c299-4dcb-8224-4455121ee9b0",
    "_uuid": "d629ff2d2480ee46fbb7e2d37f6b5fab8052498a",
    "execution": {
     "iopub.execute_input": "2021-10-03T11:49:19.723549Z",
     "iopub.status.busy": "2021-10-03T11:49:19.722745Z",
     "iopub.status.idle": "2021-10-03T11:49:19.725564Z",
     "shell.execute_reply": "2021-10-03T11:49:19.725148Z",
     "shell.execute_reply.started": "2021-10-03T05:52:52.70129Z"
    },
    "papermill": {
     "duration": 0.040853,
     "end_time": "2021-10-03T11:49:19.725653",
     "exception": false,
     "start_time": "2021-10-03T11:49:19.684800",
     "status": "completed"
    },
    "tags": []
   },
   "outputs": [],
   "source": [
    "import os\n",
    "import librosa   #for audio processing\n",
    "import IPython.display as ipd\n",
    "import matplotlib.pyplot as plt\n",
    "import numpy as np\n",
    "from scipy.io import wavfile #for audio processing\n",
    "import warnings\n",
    "warnings.filterwarnings(\"ignore\")"
   ]
  },
  {
   "cell_type": "code",
   "execution_count": null,
   "metadata": {
    "execution": {
     "iopub.execute_input": "2021-10-03T11:49:19.798191Z",
     "iopub.status.busy": "2021-10-03T11:49:19.797487Z",
     "iopub.status.idle": "2021-10-03T11:51:17.872931Z",
     "shell.execute_reply": "2021-10-03T11:51:17.871959Z",
     "shell.execute_reply.started": "2021-10-03T05:52:52.717252Z"
    },
    "papermill": {
     "duration": 118.11438,
     "end_time": "2021-10-03T11:51:17.873047",
     "exception": false,
     "start_time": "2021-10-03T11:49:19.758667",
     "status": "completed"
    },
    "tags": []
   },
   "outputs": [],
   "source": [
    "!apt-get install -y p7zip-full\n",
    "!7z x ../input/tensorflow-speech-recognition-challenge/train.7z"
   ]
  },
  {
   "cell_type": "code",
   "execution_count": null,
   "metadata": {
    "execution": {
     "iopub.execute_input": "2021-10-03T11:51:18.260379Z",
     "iopub.status.busy": "2021-10-03T11:51:18.258642Z",
     "iopub.status.idle": "2021-10-03T11:51:18.260969Z",
     "shell.execute_reply": "2021-10-03T11:51:18.261376Z",
     "shell.execute_reply.started": "2021-10-03T05:54:47.973544Z"
    },
    "papermill": {
     "duration": 0.197104,
     "end_time": "2021-10-03T11:51:18.261484",
     "exception": false,
     "start_time": "2021-10-03T11:51:18.064380",
     "status": "completed"
    },
    "tags": []
   },
   "outputs": [],
   "source": [
    "train_audio_path = './'"
   ]
  },
  {
   "cell_type": "code",
   "execution_count": null,
   "metadata": {
    "execution": {
     "iopub.execute_input": "2021-10-03T11:51:18.649809Z",
     "iopub.status.busy": "2021-10-03T11:51:18.648072Z",
     "iopub.status.idle": "2021-10-03T11:51:18.650387Z",
     "shell.execute_reply": "2021-10-03T11:51:18.650799Z",
     "shell.execute_reply.started": "2021-10-03T05:54:47.980357Z"
    },
    "papermill": {
     "duration": 0.200253,
     "end_time": "2021-10-03T11:51:18.650915",
     "exception": false,
     "start_time": "2021-10-03T11:51:18.450662",
     "status": "completed"
    },
    "tags": []
   },
   "outputs": [],
   "source": [
    "def log_specgram(audio, sample_rate, window_size=20,\n",
    "                 step_size=10, eps=1e-10):\n",
    "    nperseg = int(round(window_size * sample_rate / 1e3))\n",
    "    noverlap = int(round(step_size * sample_rate / 1e3))\n",
    "    freqs, times, spec = signal.spectrogram(audio,\n",
    "                                    fs=sample_rate,\n",
    "                                    window='hann',\n",
    "                                    nperseg=nperseg,\n",
    "                                    noverlap=noverlap,\n",
    "                                    detrend=False)\n",
    "    return freqs, times, np.log(spec.T.astype(np.float32) + eps)"
   ]
  },
  {
   "cell_type": "code",
   "execution_count": null,
   "metadata": {
    "execution": {
     "iopub.execute_input": "2021-10-03T11:51:19.041517Z",
     "iopub.status.busy": "2021-10-03T11:51:19.039742Z",
     "iopub.status.idle": "2021-10-03T11:51:19.452575Z",
     "shell.execute_reply": "2021-10-03T11:51:19.453017Z",
     "shell.execute_reply.started": "2021-10-03T05:54:47.993556Z"
    },
    "papermill": {
     "duration": 0.612448,
     "end_time": "2021-10-03T11:51:19.453143",
     "exception": false,
     "start_time": "2021-10-03T11:51:18.840695",
     "status": "completed"
    },
    "tags": []
   },
   "outputs": [],
   "source": [
    "train_audio_path = './'\n",
    "filename = 'yes/0a7c2a8d_nohash_0.wav'\n",
    "sample_rate, samples = wavfile.read(str(train_audio_path) + filename)\n",
    "\n",
    "freqs, times, spectrogram = log_specgram(samples, sample_rate)\n",
    "\n",
    "fig = plt.figure(figsize=(14, 8))\n",
    "ax1 = fig.add_subplot(211)\n",
    "ax1.set_title('Raw wave of ' + filename)\n",
    "ax1.set_ylabel('Amplitude')\n",
    "ax1.plot(np.linspace(0, sample_rate/len(samples), sample_rate), samples)\n",
    "\n",
    "ax2 = fig.add_subplot(212)\n",
    "ax2.imshow(spectrogram.T, aspect='auto', origin='lower', \n",
    "           extent=[times.min(), times.max(), freqs.min(), freqs.max()])\n",
    "ax2.set_yticks(freqs[::16])\n",
    "ax2.set_xticks(times[::16])\n",
    "ax2.set_title('Spectrogram of ' + filename)\n",
    "ax2.set_ylabel('Freqs in Hz')\n",
    "ax2.set_xlabel('Seconds')"
   ]
  },
  {
   "cell_type": "code",
   "execution_count": null,
   "metadata": {
    "execution": {
     "iopub.execute_input": "2021-10-03T11:51:19.850288Z",
     "iopub.status.busy": "2021-10-03T11:51:19.849462Z",
     "iopub.status.idle": "2021-10-03T11:51:19.853200Z",
     "shell.execute_reply": "2021-10-03T11:51:19.852718Z",
     "shell.execute_reply.started": "2021-10-03T05:54:48.416009Z"
    },
    "papermill": {
     "duration": 0.205397,
     "end_time": "2021-10-03T11:51:19.853303",
     "exception": false,
     "start_time": "2021-10-03T11:51:19.647906",
     "status": "completed"
    },
    "tags": []
   },
   "outputs": [],
   "source": [
    "mean = np.mean(spectrogram, axis=0)\n",
    "std = np.std(spectrogram, axis=0)\n",
    "spectrogram = (spectrogram - mean) / std"
   ]
  },
  {
   "cell_type": "code",
   "execution_count": null,
   "metadata": {
    "execution": {
     "iopub.execute_input": "2021-10-03T11:51:20.264972Z",
     "iopub.status.busy": "2021-10-03T11:51:20.264194Z",
     "iopub.status.idle": "2021-10-03T11:51:20.267099Z",
     "shell.execute_reply": "2021-10-03T11:51:20.266655Z",
     "shell.execute_reply.started": "2021-10-03T05:54:48.42453Z"
    },
    "papermill": {
     "duration": 0.20749,
     "end_time": "2021-10-03T11:51:20.267197",
     "exception": false,
     "start_time": "2021-10-03T11:51:20.059707",
     "status": "completed"
    },
    "tags": []
   },
   "outputs": [],
   "source": [
    "# We'll need numpy for some mathematical operations\n",
    "import numpy as np\n",
    "\n",
    "# matplotlib for displaying the output\n",
    "import matplotlib.pyplot as plt\n",
    "%matplotlib inline\n",
    "\n",
    "# and IPython.display for audio output\n",
    "import IPython.display\n",
    "\n",
    "# Librosa for audio\n",
    "import librosa\n",
    "# And the display module for visualization\n",
    "import librosa.display"
   ]
  },
  {
   "cell_type": "code",
   "execution_count": null,
   "metadata": {
    "execution": {
     "iopub.execute_input": "2021-10-03T11:51:20.662873Z",
     "iopub.status.busy": "2021-10-03T11:51:20.662015Z",
     "iopub.status.idle": "2021-10-03T11:51:24.450428Z",
     "shell.execute_reply": "2021-10-03T11:51:24.449396Z",
     "shell.execute_reply.started": "2021-10-03T05:54:48.435565Z"
    },
    "papermill": {
     "duration": 3.98807,
     "end_time": "2021-10-03T11:51:24.450540",
     "exception": false,
     "start_time": "2021-10-03T11:51:20.462470",
     "status": "completed"
    },
    "tags": []
   },
   "outputs": [],
   "source": [
    "\n",
    "audio_path = librosa.util.example_audio_file()\n",
    "\n",
    "# or uncomment the line below and point it at your favorite song:\n",
    "#\n",
    "# audio_path = '/path/to/your/favorite/song.mp3'\n",
    "\n",
    "y, sr = librosa.load(audio_path)"
   ]
  },
  {
   "cell_type": "code",
   "execution_count": null,
   "metadata": {
    "execution": {
     "iopub.execute_input": "2021-10-03T11:51:24.850355Z",
     "iopub.status.busy": "2021-10-03T11:51:24.849348Z",
     "iopub.status.idle": "2021-10-03T11:51:25.370255Z",
     "shell.execute_reply": "2021-10-03T11:51:25.370669Z",
     "shell.execute_reply.started": "2021-10-03T05:54:51.976851Z"
    },
    "papermill": {
     "duration": 0.723212,
     "end_time": "2021-10-03T11:51:25.370809",
     "exception": false,
     "start_time": "2021-10-03T11:51:24.647597",
     "status": "completed"
    },
    "tags": []
   },
   "outputs": [],
   "source": [
    "print(y[60])\n",
    "# Let's make and display a mel-scaled power (energy-squared) spectrogram\n",
    "S = librosa.feature.melspectrogram(y, sr=sr, n_mels=128)\n",
    "\n",
    "# Convert to log scale (dB). We'll use the peak power (max) as reference.\n",
    "log_S = librosa.power_to_db(S, ref=np.max)\n",
    "\n",
    "# Make a new figure\n",
    "plt.figure(figsize=(12,4))\n",
    "\n",
    "# Display the spectrogram on a mel scale\n",
    "# sample rate and hop length parameters are used to render the time axis\n",
    "librosa.display.specshow(log_S, sr=sr, x_axis='time', y_axis='mel')\n",
    "\n",
    "# Put a descriptive title on the plot\n",
    "plt.title('mel power spectrogram')\n",
    "\n",
    "# draw a color bar\n",
    "plt.colorbar(format='%+02.0f dB')\n",
    "\n",
    "# Make the figure layout compact\n",
    "plt.tight_layout()"
   ]
  },
  {
   "cell_type": "code",
   "execution_count": null,
   "metadata": {
    "execution": {
     "iopub.execute_input": "2021-10-03T11:51:25.858889Z",
     "iopub.status.busy": "2021-10-03T11:51:25.858068Z",
     "iopub.status.idle": "2021-10-03T11:51:26.193117Z",
     "shell.execute_reply": "2021-10-03T11:51:26.192247Z",
     "shell.execute_reply.started": "2021-10-03T05:54:52.487749Z"
    },
    "papermill": {
     "duration": 0.62353,
     "end_time": "2021-10-03T11:51:26.193222",
     "exception": false,
     "start_time": "2021-10-03T11:51:25.569692",
     "status": "completed"
    },
    "tags": []
   },
   "outputs": [],
   "source": [
    "mfcc = librosa.feature.mfcc(S=log_S, n_mfcc=13)\n",
    "\n",
    "# Let's pad on the first and second deltas while we're at it\n",
    "delta2_mfcc = librosa.feature.delta(mfcc, order=2)\n",
    "\n",
    "plt.figure(figsize=(12, 4))\n",
    "librosa.display.specshow(delta2_mfcc)\n",
    "plt.ylabel('MFCC coeffs')\n",
    "plt.xlabel('Time')\n",
    "plt.title('MFCC')\n",
    "plt.colorbar()\n",
    "plt.tight_layout()"
   ]
  },
  {
   "cell_type": "code",
   "execution_count": null,
   "metadata": {
    "execution": {
     "iopub.execute_input": "2021-10-03T11:51:26.598551Z",
     "iopub.status.busy": "2021-10-03T11:51:26.598008Z",
     "iopub.status.idle": "2021-10-03T11:51:26.611414Z",
     "shell.execute_reply": "2021-10-03T11:51:26.610985Z",
     "shell.execute_reply.started": "2021-10-03T05:54:52.696798Z"
    },
    "papermill": {
     "duration": 0.217002,
     "end_time": "2021-10-03T11:51:26.611511",
     "exception": false,
     "start_time": "2021-10-03T11:51:26.394509",
     "status": "completed"
    },
    "tags": []
   },
   "outputs": [],
   "source": [
    "ipd.Audio(samples, rate=sample_rate)\n",
    "samples_cut = samples[4000:13000]\n",
    "ipd.Audio(samples_cut, rate=sample_rate)"
   ]
  },
  {
   "cell_type": "code",
   "execution_count": null,
   "metadata": {
    "execution": {
     "iopub.execute_input": "2021-10-03T11:51:27.075768Z",
     "iopub.status.busy": "2021-10-03T11:51:27.075209Z",
     "iopub.status.idle": "2021-10-03T11:51:27.446072Z",
     "shell.execute_reply": "2021-10-03T11:51:27.446497Z",
     "shell.execute_reply.started": "2021-10-03T05:54:52.712506Z"
    },
    "papermill": {
     "duration": 0.626024,
     "end_time": "2021-10-03T11:51:27.446619",
     "exception": false,
     "start_time": "2021-10-03T11:51:26.820595",
     "status": "completed"
    },
    "tags": []
   },
   "outputs": [],
   "source": [
    "freqs, times, spectrogram_cut = log_specgram(samples_cut, sample_rate)\n",
    "\n",
    "fig = plt.figure(figsize=(14, 8))\n",
    "ax1 = fig.add_subplot(211)\n",
    "ax1.set_title('Raw wave of ' + filename)\n",
    "ax1.set_ylabel('Amplitude')\n",
    "ax1.plot(samples_cut)\n",
    "\n",
    "ax2 = fig.add_subplot(212)\n",
    "ax2.set_title('Spectrogram of ' + filename)\n",
    "ax2.set_ylabel('Frequencies * 0.1')\n",
    "ax2.set_xlabel('Samples')\n",
    "ax2.imshow(spectrogram_cut.T, aspect='auto', origin='lower', \n",
    "           extent=[times.min(), times.max(), freqs.min(), freqs.max()])\n",
    "ax2.set_yticks(freqs[::16])\n",
    "ax2.set_xticks(times[::16])\n",
    "ax2.text(0.06, 1000, 'Y', fontsize=18)\n",
    "ax2.text(0.17, 1000, 'E', fontsize=18)\n",
    "ax2.text(0.36, 1000, 'S', fontsize=18)\n",
    "\n",
    "xcoords = [0.025, 0.11, 0.23, 0.49]\n",
    "for xc in xcoords:\n",
    "    ax1.axvline(x=xc*16000, c='r')\n",
    "    ax2.axvline(x=xc, c='r')"
   ]
  },
  {
   "cell_type": "code",
   "execution_count": null,
   "metadata": {
    "execution": {
     "iopub.execute_input": "2021-10-03T11:51:27.862720Z",
     "iopub.status.busy": "2021-10-03T11:51:27.862159Z",
     "iopub.status.idle": "2021-10-03T11:51:27.866333Z",
     "shell.execute_reply": "2021-10-03T11:51:27.865637Z",
     "shell.execute_reply.started": "2021-10-03T05:54:53.050993Z"
    },
    "papermill": {
     "duration": 0.215402,
     "end_time": "2021-10-03T11:51:27.866448",
     "exception": false,
     "start_time": "2021-10-03T11:51:27.651046",
     "status": "completed"
    },
    "tags": []
   },
   "outputs": [],
   "source": [
    "def custom_fft(y, fs):\n",
    "    T = 1.0 / fs\n",
    "    N = y.shape[0]\n",
    "    yf = fft(y)\n",
    "    xf = np.linspace(0.0, 1.0/(2.0*T), N//2)\n",
    "    vals = 2.0/N * np.abs(yf[0:N//2])  # FFT is simmetrical, so we take just the first half\n",
    "    # FFT is also complex, to we take just the real part (abs)\n",
    "    return xf, vals"
   ]
  },
  {
   "cell_type": "code",
   "execution_count": null,
   "metadata": {
    "execution": {
     "iopub.execute_input": "2021-10-03T11:51:28.287474Z",
     "iopub.status.busy": "2021-10-03T11:51:28.286233Z",
     "iopub.status.idle": "2021-10-03T11:51:28.289950Z",
     "shell.execute_reply": "2021-10-03T11:51:28.289523Z",
     "shell.execute_reply.started": "2021-10-03T05:54:53.059939Z"
    },
    "papermill": {
     "duration": 0.215728,
     "end_time": "2021-10-03T11:51:28.290048",
     "exception": false,
     "start_time": "2021-10-03T11:51:28.074320",
     "status": "completed"
    },
    "tags": []
   },
   "outputs": [],
   "source": [
    "filename = '/happy/0b09edd3_nohash_0.wav'\n",
    "new_sample_rate = 8000\n",
    "\n",
    "sample_rate, samples = wavfile.read(str(train_audio_path) + filename)\n",
    "resampled = signal.resample(samples, int(new_sample_rate/sample_rate * samples.shape[0]))"
   ]
  },
  {
   "cell_type": "code",
   "execution_count": null,
   "metadata": {
    "execution": {
     "iopub.execute_input": "2021-10-03T11:51:28.774749Z",
     "iopub.status.busy": "2021-10-03T11:51:28.773212Z",
     "iopub.status.idle": "2021-10-03T11:51:28.779551Z",
     "shell.execute_reply": "2021-10-03T11:51:28.779996Z",
     "shell.execute_reply.started": "2021-10-03T05:54:53.07322Z"
    },
    "papermill": {
     "duration": 0.28224,
     "end_time": "2021-10-03T11:51:28.780172",
     "exception": false,
     "start_time": "2021-10-03T11:51:28.497932",
     "status": "completed"
    },
    "tags": []
   },
   "outputs": [],
   "source": [
    "ipd.Audio(samples, rate=sample_rate)"
   ]
  },
  {
   "cell_type": "code",
   "execution_count": null,
   "metadata": {
    "execution": {
     "iopub.execute_input": "2021-10-03T11:51:29.206446Z",
     "iopub.status.busy": "2021-10-03T11:51:29.205484Z",
     "iopub.status.idle": "2021-10-03T11:51:29.210519Z",
     "shell.execute_reply": "2021-10-03T11:51:29.211143Z",
     "shell.execute_reply.started": "2021-10-03T05:54:53.084561Z"
    },
    "papermill": {
     "duration": 0.21841,
     "end_time": "2021-10-03T11:51:29.211294",
     "exception": false,
     "start_time": "2021-10-03T11:51:28.992884",
     "status": "completed"
    },
    "tags": []
   },
   "outputs": [],
   "source": [
    "ipd.Audio(resampled, rate=new_sample_rate)"
   ]
  },
  {
   "cell_type": "code",
   "execution_count": null,
   "metadata": {
    "execution": {
     "iopub.execute_input": "2021-10-03T11:51:29.639534Z",
     "iopub.status.busy": "2021-10-03T11:51:29.638556Z",
     "iopub.status.idle": "2021-10-03T11:51:29.787035Z",
     "shell.execute_reply": "2021-10-03T11:51:29.787638Z",
     "shell.execute_reply.started": "2021-10-03T05:54:53.098353Z"
    },
    "papermill": {
     "duration": 0.361846,
     "end_time": "2021-10-03T11:51:29.787828",
     "exception": false,
     "start_time": "2021-10-03T11:51:29.425982",
     "status": "completed"
    },
    "tags": []
   },
   "outputs": [],
   "source": [
    "xf, vals = custom_fft(samples, sample_rate)\n",
    "plt.figure(figsize=(12, 4))\n",
    "plt.title('FFT of recording sampled with ' + str(sample_rate) + ' Hz')\n",
    "plt.plot(xf, vals)\n",
    "plt.xlabel('Frequency')\n",
    "plt.grid()\n",
    "plt.show()"
   ]
  },
  {
   "cell_type": "code",
   "execution_count": null,
   "metadata": {
    "execution": {
     "iopub.execute_input": "2021-10-03T11:51:30.218218Z",
     "iopub.status.busy": "2021-10-03T11:51:30.217252Z",
     "iopub.status.idle": "2021-10-03T11:51:30.372000Z",
     "shell.execute_reply": "2021-10-03T11:51:30.372470Z",
     "shell.execute_reply.started": "2021-10-03T05:54:53.248946Z"
    },
    "papermill": {
     "duration": 0.372525,
     "end_time": "2021-10-03T11:51:30.372621",
     "exception": false,
     "start_time": "2021-10-03T11:51:30.000096",
     "status": "completed"
    },
    "tags": []
   },
   "outputs": [],
   "source": [
    "xf, vals = custom_fft(resampled, new_sample_rate)\n",
    "plt.figure(figsize=(12, 4))\n",
    "plt.title('FFT of recording sampled with ' + str(new_sample_rate) + ' Hz')\n",
    "plt.plot(xf, vals)\n",
    "plt.xlabel('Frequency')\n",
    "plt.grid()\n",
    "plt.show()"
   ]
  },
  {
   "cell_type": "code",
   "execution_count": null,
   "metadata": {
    "execution": {
     "iopub.execute_input": "2021-10-03T11:51:30.809405Z",
     "iopub.status.busy": "2021-10-03T11:51:30.808432Z",
     "iopub.status.idle": "2021-10-03T11:51:31.095596Z",
     "shell.execute_reply": "2021-10-03T11:51:31.096074Z",
     "shell.execute_reply.started": "2021-10-03T05:54:53.400033Z"
    },
    "papermill": {
     "duration": 0.503444,
     "end_time": "2021-10-03T11:51:31.096208",
     "exception": false,
     "start_time": "2021-10-03T11:51:30.592764",
     "status": "completed"
    },
    "tags": []
   },
   "outputs": [],
   "source": [
    "filenames = ['on/004ae714_nohash_0.wav', 'on/0137b3f4_nohash_0.wav']\n",
    "for filename in filenames:\n",
    "    sample_rate, samples = wavfile.read(str(train_audio_path) + filename)\n",
    "    xf, vals = custom_fft(samples, sample_rate)\n",
    "    plt.figure(figsize=(12, 4))\n",
    "    plt.title('FFT of speaker ' + filename[4:11])\n",
    "    plt.plot(xf, vals)\n",
    "    plt.xlabel('Frequency')\n",
    "    plt.grid()\n",
    "    plt.show()"
   ]
  },
  {
   "cell_type": "code",
   "execution_count": null,
   "metadata": {
    "execution": {
     "iopub.execute_input": "2021-10-03T11:51:31.527038Z",
     "iopub.status.busy": "2021-10-03T11:51:31.526197Z",
     "iopub.status.idle": "2021-10-03T11:51:31.534933Z",
     "shell.execute_reply": "2021-10-03T11:51:31.534443Z",
     "shell.execute_reply.started": "2021-10-03T05:54:53.711683Z"
    },
    "papermill": {
     "duration": 0.223931,
     "end_time": "2021-10-03T11:51:31.535031",
     "exception": false,
     "start_time": "2021-10-03T11:51:31.311100",
     "status": "completed"
    },
    "tags": []
   },
   "outputs": [],
   "source": [
    "print('Speaker ' + filenames[0][4:11])\n",
    "ipd.Audio(join(train_audio_path, filenames[0]))"
   ]
  },
  {
   "cell_type": "code",
   "execution_count": null,
   "metadata": {
    "execution": {
     "iopub.execute_input": "2021-10-03T11:51:31.974912Z",
     "iopub.status.busy": "2021-10-03T11:51:31.974061Z",
     "iopub.status.idle": "2021-10-03T11:51:31.981857Z",
     "shell.execute_reply": "2021-10-03T11:51:31.982339Z",
     "shell.execute_reply.started": "2021-10-03T05:54:53.725864Z"
    },
    "papermill": {
     "duration": 0.228,
     "end_time": "2021-10-03T11:51:31.982454",
     "exception": false,
     "start_time": "2021-10-03T11:51:31.754454",
     "status": "completed"
    },
    "tags": []
   },
   "outputs": [],
   "source": [
    "print('Speaker ' + filenames[1][4:11])\n",
    "ipd.Audio(join(train_audio_path, filenames[1]))"
   ]
  },
  {
   "cell_type": "code",
   "execution_count": null,
   "metadata": {
    "execution": {
     "iopub.execute_input": "2021-10-03T11:51:32.417905Z",
     "iopub.status.busy": "2021-10-03T11:51:32.416985Z",
     "iopub.status.idle": "2021-10-03T11:51:32.745417Z",
     "shell.execute_reply": "2021-10-03T11:51:32.746016Z",
     "shell.execute_reply.started": "2021-10-03T05:54:53.738869Z"
    },
    "papermill": {
     "duration": 0.549316,
     "end_time": "2021-10-03T11:51:32.746166",
     "exception": false,
     "start_time": "2021-10-03T11:51:32.196850",
     "status": "completed"
    },
    "tags": []
   },
   "outputs": [],
   "source": [
    "filename = '/yes/01bb6a2a_nohash_1.wav'\n",
    "sample_rate, samples = wavfile.read(str(train_audio_path) + filename)\n",
    "freqs, times, spectrogram = log_specgram(samples, sample_rate)\n",
    "\n",
    "plt.figure(figsize=(10, 7))\n",
    "plt.title('Spectrogram of ' + filename)\n",
    "plt.ylabel('Freqs')\n",
    "plt.xlabel('Time')\n",
    "plt.imshow(spectrogram.T, aspect='auto', origin='lower', \n",
    "           extent=[times.min(), times.max(), freqs.min(), freqs.max()])\n",
    "plt.yticks(freqs[::16])\n",
    "plt.xticks(times[::16])\n",
    "plt.show()"
   ]
  },
  {
   "cell_type": "code",
   "execution_count": null,
   "metadata": {
    "execution": {
     "iopub.execute_input": "2021-10-03T11:51:33.192348Z",
     "iopub.status.busy": "2021-10-03T11:51:33.191340Z",
     "iopub.status.idle": "2021-10-03T11:51:33.197257Z",
     "shell.execute_reply": "2021-10-03T11:51:33.196602Z",
     "shell.execute_reply.started": "2021-10-03T05:54:54.064822Z"
    },
    "papermill": {
     "duration": 0.230962,
     "end_time": "2021-10-03T11:51:33.197393",
     "exception": false,
     "start_time": "2021-10-03T11:51:32.966431",
     "status": "completed"
    },
    "tags": []
   },
   "outputs": [],
   "source": [
    "dirs = [f for f in os.listdir(train_audio_path) if isdir(join(train_audio_path, f))]\n",
    "dirs.sort()\n",
    "print('Number of labels: ' + str(len(dirs)))"
   ]
  },
  {
   "cell_type": "code",
   "execution_count": null,
   "metadata": {
    "execution": {
     "iopub.execute_input": "2021-10-03T11:51:33.670521Z",
     "iopub.status.busy": "2021-10-03T11:51:33.669506Z",
     "iopub.status.idle": "2021-10-03T11:51:36.514644Z",
     "shell.execute_reply": "2021-10-03T11:51:36.515119Z",
     "shell.execute_reply.started": "2021-10-03T05:54:54.074882Z"
    },
    "papermill": {
     "duration": 3.081312,
     "end_time": "2021-10-03T11:51:36.515269",
     "exception": false,
     "start_time": "2021-10-03T11:51:33.433957",
     "status": "completed"
    },
    "tags": []
   },
   "outputs": [],
   "source": [
    "num_of_shorter = 0\n",
    "for direct in dirs:\n",
    "    waves = [f for f in os.listdir(join(train_audio_path, direct)) if f.endswith('.wav')]\n",
    "    for wav in waves:\n",
    "        sample_rate, samples = wavfile.read(train_audio_path + direct + '/' + wav)\n",
    "        if samples.shape[0] < sample_rate:\n",
    "            num_of_shorter += 1\n",
    "print('Number of recordings shorter than 1 second: ' + str(num_of_shorter))"
   ]
  },
  {
   "cell_type": "code",
   "execution_count": null,
   "metadata": {
    "execution": {
     "iopub.execute_input": "2021-10-03T11:51:37.206537Z",
     "iopub.status.busy": "2021-10-03T11:51:37.205695Z",
     "iopub.status.idle": "2021-10-03T11:52:05.941582Z",
     "shell.execute_reply": "2021-10-03T11:52:05.942060Z",
     "shell.execute_reply.started": "2021-10-03T05:54:56.514024Z"
    },
    "papermill": {
     "duration": 29.151721,
     "end_time": "2021-10-03T11:52:05.942196",
     "exception": false,
     "start_time": "2021-10-03T11:51:36.790475",
     "status": "completed"
    },
    "tags": []
   },
   "outputs": [],
   "source": [
    "to_keep = 'yes no up down left right on off stop go'.split()\n",
    "dirs = [d for d in dirs if d in to_keep]\n",
    "\n",
    "print(dirs)\n",
    "\n",
    "for direct in dirs:\n",
    "    vals_all = []\n",
    "    spec_all = []\n",
    "\n",
    "    waves = [f for f in os.listdir(join(train_audio_path, direct)) if f.endswith('.wav')]\n",
    "    for wav in waves:\n",
    "        sample_rate, samples = wavfile.read(train_audio_path + direct + '/' + wav)\n",
    "        if samples.shape[0] != 16000:\n",
    "            continue\n",
    "        xf, vals = custom_fft(samples, 16000)\n",
    "        vals_all.append(vals)\n",
    "        freqs, times, spec = log_specgram(samples, 16000)\n",
    "        spec_all.append(spec)\n",
    "\n",
    "    plt.figure(figsize=(14, 4))\n",
    "    plt.subplot(121)\n",
    "    plt.title('Mean fft of ' + direct)\n",
    "    plt.plot(np.mean(np.array(vals_all), axis=0))\n",
    "    plt.grid()\n",
    "    plt.subplot(122)\n",
    "    plt.title('Mean specgram of ' + direct)\n",
    "    plt.imshow(np.mean(np.array(spec_all), axis=0).T, aspect='auto', origin='lower', \n",
    "               extent=[times.min(), times.max(), freqs.min(), freqs.max()])\n",
    "    plt.yticks(freqs[::16])\n",
    "    plt.xticks(times[::16])\n",
    "    plt.show()"
   ]
  },
  {
   "cell_type": "code",
   "execution_count": null,
   "metadata": {
    "execution": {
     "iopub.execute_input": "2021-10-03T11:52:06.434304Z",
     "iopub.status.busy": "2021-10-03T11:52:06.433335Z",
     "iopub.status.idle": "2021-10-03T11:52:06.435874Z",
     "shell.execute_reply": "2021-10-03T11:52:06.436383Z",
     "shell.execute_reply.started": "2021-10-03T05:55:25.245486Z"
    },
    "papermill": {
     "duration": 0.252641,
     "end_time": "2021-10-03T11:52:06.436533",
     "exception": false,
     "start_time": "2021-10-03T11:52:06.183892",
     "status": "completed"
    },
    "tags": []
   },
   "outputs": [],
   "source": [
    "def violinplot_frequency(dirs, freq_ind):\n",
    "    \"\"\" Plot violinplots for given words (waves in dirs) and frequency freq_ind\n",
    "    from all frequencies freqs.\"\"\"\n",
    "\n",
    "    spec_all = []  # Contain spectrograms\n",
    "    ind = 0\n",
    "    for direct in dirs:\n",
    "        spec_all.append([])\n",
    "\n",
    "        waves = [f for f in os.listdir(join(train_audio_path, direct)) if\n",
    "                 f.endswith('.wav')]\n",
    "        for wav in waves[:100]:\n",
    "            sample_rate, samples = wavfile.read(\n",
    "                train_audio_path + direct + '/' + wav)\n",
    "            freqs, times, spec = log_specgram(samples, sample_rate)\n",
    "            spec_all[ind].extend(spec[:, freq_ind])\n",
    "        ind += 1\n",
    "\n",
    "    # Different lengths = different num of frames. Make number equal\n",
    "    minimum = min([len(spec) for spec in spec_all])\n",
    "    spec_all = np.array([spec[:minimum] for spec in spec_all])\n",
    "\n",
    "    plt.figure(figsize=(13,7))\n",
    "    plt.title('Frequency ' + str(freqs[freq_ind]) + ' Hz')\n",
    "    plt.ylabel('Amount of frequency in a word')\n",
    "    plt.xlabel('Words')\n",
    "    sns.violinplot(data=pd.DataFrame(spec_all.T, columns=dirs))\n",
    "    plt.show()"
   ]
  },
  {
   "cell_type": "code",
   "execution_count": null,
   "metadata": {
    "execution": {
     "iopub.execute_input": "2021-10-03T11:52:06.914107Z",
     "iopub.status.busy": "2021-10-03T11:52:06.913309Z",
     "iopub.status.idle": "2021-10-03T11:52:08.088145Z",
     "shell.execute_reply": "2021-10-03T11:52:08.089158Z",
     "shell.execute_reply.started": "2021-10-03T05:55:25.258708Z"
    },
    "papermill": {
     "duration": 1.416163,
     "end_time": "2021-10-03T11:52:08.089453",
     "exception": false,
     "start_time": "2021-10-03T11:52:06.673290",
     "status": "completed"
    },
    "tags": []
   },
   "outputs": [],
   "source": [
    "violinplot_frequency(dirs, 20)"
   ]
  },
  {
   "cell_type": "code",
   "execution_count": null,
   "metadata": {
    "execution": {
     "iopub.execute_input": "2021-10-03T11:52:08.927306Z",
     "iopub.status.busy": "2021-10-03T11:52:08.924275Z",
     "iopub.status.idle": "2021-10-03T11:52:10.329391Z",
     "shell.execute_reply": "2021-10-03T11:52:10.329822Z",
     "shell.execute_reply.started": "2021-10-03T05:55:26.35685Z"
    },
    "papermill": {
     "duration": 1.837676,
     "end_time": "2021-10-03T11:52:10.329965",
     "exception": false,
     "start_time": "2021-10-03T11:52:08.492289",
     "status": "completed"
    },
    "tags": []
   },
   "outputs": [],
   "source": [
    "violinplot_frequency(dirs, 50)\n"
   ]
  },
  {
   "cell_type": "code",
   "execution_count": null,
   "metadata": {
    "execution": {
     "iopub.execute_input": "2021-10-03T11:52:10.812731Z",
     "iopub.status.busy": "2021-10-03T11:52:10.811972Z",
     "iopub.status.idle": "2021-10-03T11:52:12.050581Z",
     "shell.execute_reply": "2021-10-03T11:52:12.051019Z",
     "shell.execute_reply.started": "2021-10-03T05:55:27.463575Z"
    },
    "papermill": {
     "duration": 1.48227,
     "end_time": "2021-10-03T11:52:12.051147",
     "exception": false,
     "start_time": "2021-10-03T11:52:10.568877",
     "status": "completed"
    },
    "tags": []
   },
   "outputs": [],
   "source": [
    "violinplot_frequency(dirs, 120)"
   ]
  },
  {
   "cell_type": "code",
   "execution_count": null,
   "metadata": {
    "execution": {
     "iopub.execute_input": "2021-10-03T11:52:12.562514Z",
     "iopub.status.busy": "2021-10-03T11:52:12.561702Z",
     "iopub.status.idle": "2021-10-03T11:52:38.672275Z",
     "shell.execute_reply": "2021-10-03T11:52:38.672862Z",
     "shell.execute_reply.started": "2021-10-03T05:55:28.69111Z"
    },
    "papermill": {
     "duration": 26.364453,
     "end_time": "2021-10-03T11:52:38.673001",
     "exception": false,
     "start_time": "2021-10-03T11:52:12.308548",
     "status": "completed"
    },
    "tags": []
   },
   "outputs": [],
   "source": [
    "fft_all = []\n",
    "names = []\n",
    "for direct in dirs:\n",
    "    waves = [f for f in os.listdir(join(train_audio_path, direct)) if f.endswith('.wav')]\n",
    "    for wav in waves:\n",
    "        sample_rate, samples = wavfile.read(train_audio_path + direct + '/' + wav)\n",
    "        if samples.shape[0] != sample_rate:\n",
    "            samples = np.append(samples, np.zeros((sample_rate - samples.shape[0], )))\n",
    "        x, val = custom_fft(samples, sample_rate)\n",
    "        fft_all.append(val)\n",
    "        names.append(direct + '/' + wav)\n",
    "\n",
    "fft_all = np.array(fft_all)\n",
    "\n",
    "# Normalization\n",
    "fft_all = (fft_all - np.mean(fft_all, axis=0)) / np.std(fft_all, axis=0)\n",
    "\n",
    "# Dim reduction\n",
    "pca = PCA(n_components=3)\n",
    "fft_all = pca.fit_transform(fft_all)\n",
    "\n",
    "def interactive_3d_plot(data, names):\n",
    "    scatt = go.Scatter3d(x=data[:, 0], y=data[:, 1], z=data[:, 2], mode='markers', text=names)\n",
    "    data = go.Data([scatt])\n",
    "    layout = go.Layout(title=\"Anomaly detection\")\n",
    "    figure = go.Figure(data=data, layout=layout)\n",
    "    py.iplot(figure)\n",
    "    \n",
    "interactive_3d_plot(fft_all, names)"
   ]
  },
  {
   "cell_type": "code",
   "execution_count": null,
   "metadata": {
    "execution": {
     "iopub.execute_input": "2021-10-03T11:52:39.736042Z",
     "iopub.status.busy": "2021-10-03T11:52:39.735196Z",
     "iopub.status.idle": "2021-10-03T11:52:39.740964Z",
     "shell.execute_reply": "2021-10-03T11:52:39.741594Z",
     "shell.execute_reply.started": "2021-10-03T05:55:54.756671Z"
    },
    "papermill": {
     "duration": 0.540928,
     "end_time": "2021-10-03T11:52:39.741750",
     "exception": false,
     "start_time": "2021-10-03T11:52:39.200822",
     "status": "completed"
    },
    "tags": []
   },
   "outputs": [],
   "source": [
    "print('Recording go/0487ba9b_nohash_0.wav')\n",
    "ipd.Audio(join(train_audio_path, 'go/0487ba9b_nohash_0.wav'))"
   ]
  },
  {
   "cell_type": "code",
   "execution_count": null,
   "metadata": {
    "execution": {
     "iopub.execute_input": "2021-10-03T11:52:40.823160Z",
     "iopub.status.busy": "2021-10-03T11:52:40.821346Z",
     "iopub.status.idle": "2021-10-03T11:52:40.829391Z",
     "shell.execute_reply": "2021-10-03T11:52:40.829885Z",
     "shell.execute_reply.started": "2021-10-03T05:55:54.768145Z"
    },
    "papermill": {
     "duration": 0.546957,
     "end_time": "2021-10-03T11:52:40.830024",
     "exception": false,
     "start_time": "2021-10-03T11:52:40.283067",
     "status": "completed"
    },
    "tags": []
   },
   "outputs": [],
   "source": [
    "print('Recording yes/e4b02540_nohash_0.wav')\n",
    "ipd.Audio(join(train_audio_path, 'yes/e4b02540_nohash_0.wav'))"
   ]
  },
  {
   "cell_type": "code",
   "execution_count": null,
   "metadata": {
    "execution": {
     "iopub.execute_input": "2021-10-03T11:52:42.381130Z",
     "iopub.status.busy": "2021-10-03T11:52:42.380159Z",
     "iopub.status.idle": "2021-10-03T11:52:42.387932Z",
     "shell.execute_reply": "2021-10-03T11:52:42.388461Z",
     "shell.execute_reply.started": "2021-10-03T05:55:54.779544Z"
    },
    "papermill": {
     "duration": 0.890931,
     "end_time": "2021-10-03T11:52:42.388578",
     "exception": false,
     "start_time": "2021-10-03T11:52:41.497647",
     "status": "completed"
    },
    "tags": []
   },
   "outputs": [],
   "source": [
    "print('Recording seven/e4b02540_nohash_0.wav')\n",
    "ipd.Audio(join(train_audio_path, 'seven/b1114e4f_nohash_0.wav'))"
   ]
  },
  {
   "cell_type": "code",
   "execution_count": null,
   "metadata": {
    "execution": {
     "iopub.execute_input": "2021-10-03T11:52:43.692830Z",
     "iopub.status.busy": "2021-10-03T11:52:43.691816Z",
     "iopub.status.idle": "2021-10-03T11:52:44.059185Z",
     "shell.execute_reply": "2021-10-03T11:52:44.059616Z",
     "shell.execute_reply.started": "2021-10-03T05:55:54.790522Z"
    },
    "papermill": {
     "duration": 0.950617,
     "end_time": "2021-10-03T11:52:44.059743",
     "exception": false,
     "start_time": "2021-10-03T11:52:43.109126",
     "status": "completed"
    },
    "tags": []
   },
   "outputs": [],
   "source": [
    "samples=np.array(samples, dtype='float64')\n",
    "\n",
    "samples = librosa.resample(samples, sample_rate, 8000)\n",
    "ipd.Audio(samples, rate=8000)"
   ]
  },
  {
   "cell_type": "code",
   "execution_count": null,
   "metadata": {
    "execution": {
     "iopub.execute_input": "2021-10-03T11:52:45.138310Z",
     "iopub.status.busy": "2021-10-03T11:52:45.137502Z",
     "iopub.status.idle": "2021-10-03T11:52:45.440548Z",
     "shell.execute_reply": "2021-10-03T11:52:45.441024Z",
     "shell.execute_reply.started": "2021-10-03T05:55:55.278178Z"
    },
    "papermill": {
     "duration": 0.847148,
     "end_time": "2021-10-03T11:52:45.441188",
     "exception": false,
     "start_time": "2021-10-03T11:52:44.594040",
     "status": "completed"
    },
    "tags": []
   },
   "outputs": [],
   "source": [
    "\n",
    "labels=[\"yes\", \"no\", \"up\", \"down\", \"left\", \"right\", \"on\", \"off\", \"stop\", \"go\"]\n",
    "\n",
    "#find count of each label and plot bar graph\n",
    "no_of_recordings=[]\n",
    "for label in labels:\n",
    "    waves = [f for f in os.listdir(train_audio_path + '/'+ label) if f.endswith('.wav')]\n",
    "    no_of_recordings.append(len(waves))\n",
    "    \n",
    "#plot\n",
    "plt.figure(figsize=(30,5))\n",
    "index = np.arange(len(labels))\n",
    "plt.bar(index, no_of_recordings)\n",
    "plt.xlabel('Commands', fontsize=12)\n",
    "plt.ylabel('No of recordings', fontsize=12)\n",
    "plt.xticks(index, labels, fontsize=15, rotation=60)\n",
    "plt.title('No. of recordings for each command')\n",
    "plt.show()\n",
    "\n",
    "labels=[\"yes\", \"no\", \"up\", \"down\", \"left\", \"right\", \"on\", \"off\", \"stop\", \"go\"]"
   ]
  },
  {
   "cell_type": "code",
   "execution_count": null,
   "metadata": {
    "execution": {
     "iopub.execute_input": "2021-10-03T11:52:46.510169Z",
     "iopub.status.busy": "2021-10-03T11:52:46.509363Z",
     "iopub.status.idle": "2021-10-03T11:52:47.487706Z",
     "shell.execute_reply": "2021-10-03T11:52:47.488156Z",
     "shell.execute_reply.started": "2021-10-03T05:55:55.609608Z"
    },
    "papermill": {
     "duration": 1.514474,
     "end_time": "2021-10-03T11:52:47.488283",
     "exception": false,
     "start_time": "2021-10-03T11:52:45.973809",
     "status": "completed"
    },
    "tags": []
   },
   "outputs": [],
   "source": [
    "\n",
    "duration_of_recordings=[]\n",
    "for label in labels:\n",
    "    waves = [f for f in os.listdir(train_audio_path + '/'+ label) if f.endswith('.wav')]\n",
    "    for wav in waves:\n",
    "        sample_rate, samples = wavfile.read(train_audio_path + '/' + label + '/' + wav)\n",
    "        duration_of_recordings.append(float(len(samples)/sample_rate))\n",
    "    \n",
    "plt.hist(np.array(duration_of_recordings))"
   ]
  },
  {
   "cell_type": "code",
   "execution_count": null,
   "metadata": {
    "execution": {
     "iopub.execute_input": "2021-10-03T11:52:48.556568Z",
     "iopub.status.busy": "2021-10-03T11:52:48.555745Z",
     "iopub.status.idle": "2021-10-03T11:58:40.399050Z",
     "shell.execute_reply": "2021-10-03T11:58:40.398221Z",
     "shell.execute_reply.started": "2021-10-03T05:55:56.724615Z"
    },
    "papermill": {
     "duration": 352.383862,
     "end_time": "2021-10-03T11:58:40.399169",
     "exception": false,
     "start_time": "2021-10-03T11:52:48.015307",
     "status": "completed"
    },
    "tags": []
   },
   "outputs": [],
   "source": [
    "train_audio_path = './'\n",
    "\n",
    "all_wave = []\n",
    "all_label = []\n",
    "for label in labels:\n",
    "    print(label)\n",
    "    waves = [f for f in os.listdir(train_audio_path + '/'+ label) if f.endswith('.wav')]\n",
    "    for wav in waves:\n",
    "        samples, sample_rate = librosa.load(train_audio_path + '/' + label + '/' + wav, sr = 16000)\n",
    "        samples = librosa.resample(samples, sample_rate, 8000)\n",
    "        if(len(samples)== 8000) : \n",
    "            all_wave.append(samples)\n",
    "            all_label.append(label)"
   ]
  },
  {
   "cell_type": "code",
   "execution_count": null,
   "metadata": {
    "execution": {
     "iopub.execute_input": "2021-10-03T11:58:41.479232Z",
     "iopub.status.busy": "2021-10-03T11:58:41.478315Z",
     "iopub.status.idle": "2021-10-03T11:58:41.482747Z",
     "shell.execute_reply": "2021-10-03T11:58:41.483148Z",
     "shell.execute_reply.started": "2021-10-03T06:01:46.174973Z"
    },
    "papermill": {
     "duration": 0.54737,
     "end_time": "2021-10-03T11:58:41.483270",
     "exception": false,
     "start_time": "2021-10-03T11:58:40.935900",
     "status": "completed"
    },
    "tags": []
   },
   "outputs": [],
   "source": [
    "from sklearn.preprocessing import LabelEncoder\n",
    "le = LabelEncoder()\n",
    "y=le.fit_transform(all_label)\n",
    "classes= list(le.classes_)"
   ]
  },
  {
   "cell_type": "code",
   "execution_count": null,
   "metadata": {
    "execution": {
     "iopub.execute_input": "2021-10-03T11:58:42.555276Z",
     "iopub.status.busy": "2021-10-03T11:58:42.554615Z",
     "iopub.status.idle": "2021-10-03T11:58:46.983862Z",
     "shell.execute_reply": "2021-10-03T11:58:46.983290Z",
     "shell.execute_reply.started": "2021-10-03T06:01:46.18849Z"
    },
    "papermill": {
     "duration": 4.96903,
     "end_time": "2021-10-03T11:58:46.983989",
     "exception": false,
     "start_time": "2021-10-03T11:58:42.014959",
     "status": "completed"
    },
    "tags": []
   },
   "outputs": [],
   "source": [
    "from keras.utils import np_utils\n",
    "y=np_utils.to_categorical(y, num_classes=len(labels))"
   ]
  },
  {
   "cell_type": "code",
   "execution_count": null,
   "metadata": {
    "execution": {
     "iopub.execute_input": "2021-10-03T11:58:48.058842Z",
     "iopub.status.busy": "2021-10-03T11:58:48.058251Z",
     "iopub.status.idle": "2021-10-03T11:58:48.262519Z",
     "shell.execute_reply": "2021-10-03T11:58:48.261838Z",
     "shell.execute_reply.started": "2021-10-03T06:01:50.441027Z"
    },
    "papermill": {
     "duration": 0.74332,
     "end_time": "2021-10-03T11:58:48.262636",
     "exception": false,
     "start_time": "2021-10-03T11:58:47.519316",
     "status": "completed"
    },
    "tags": []
   },
   "outputs": [],
   "source": [
    "all_wave = np.array(all_wave).reshape(-1,8000,1)"
   ]
  },
  {
   "cell_type": "code",
   "execution_count": null,
   "metadata": {},
   "outputs": [],
   "source": [
    "x_train = []\n",
    "y_train = []"
   ]
  },
  {
   "cell_type": "code",
   "execution_count": null,
   "metadata": {
    "execution": {
     "iopub.execute_input": "2021-10-03T11:58:49.363981Z",
     "iopub.status.busy": "2021-10-03T11:58:49.362497Z",
     "iopub.status.idle": "2021-10-03T11:58:50.136372Z",
     "shell.execute_reply": "2021-10-03T11:58:50.136802Z",
     "shell.execute_reply.started": "2021-10-03T06:01:50.640854Z"
    },
    "papermill": {
     "duration": 1.342077,
     "end_time": "2021-10-03T11:58:50.136981",
     "exception": false,
     "start_time": "2021-10-03T11:58:48.794904",
     "status": "completed"
    },
    "tags": []
   },
   "outputs": [],
   "source": [
    "from sklearn.model_selection import train_test_split\n",
    "x_tr, x_val, y_tr, y_val = train_test_split(np.array(x_train_new),np.array(y_train),stratify=y_train,test_size = 0.2,random_state=777,shuffle=True)"
   ]
  },
  {
   "cell_type": "code",
   "execution_count": null,
   "metadata": {
    "execution": {
     "iopub.execute_input": "2021-10-03T11:58:51.273484Z",
     "iopub.status.busy": "2021-10-03T11:58:51.272912Z",
     "iopub.status.idle": "2021-10-03T11:58:53.308966Z",
     "shell.execute_reply": "2021-10-03T11:58:53.309699Z",
     "shell.execute_reply.started": "2021-10-03T06:01:51.380634Z"
    },
    "papermill": {
     "duration": 2.617292,
     "end_time": "2021-10-03T11:58:53.309923",
     "exception": false,
     "start_time": "2021-10-03T11:58:50.692631",
     "status": "completed"
    },
    "tags": []
   },
   "outputs": [],
   "source": [
    "from keras.layers import Dense, Dropout, Flatten, Conv1D, Input, MaxPooling1D, Conv2D, MaxPooling2D\n",
    "from keras.models import Model\n",
    "from keras.callbacks import EarlyStopping, ModelCheckpoint\n",
    "from keras import backend as K\n",
    "K.clear_session()\n",
    "\n",
    "inputs = Input(shape=(64,32))\n",
    "\n",
    "#First Conv1D layer\n",
    "conv = Conv1D(64, 16, padding='valid', activation='relu', strides=1)(inputs)\n",
    "conv = BatchNormalization()(conv)\n",
    "conv = MaxPooling1D(3)(conv)\n",
    "conv = Dropout(0.2)(conv)\n",
    "\n",
    "#Second Conv1D layer\n",
    "conv = Conv1D(32, 11, padding='valid', activation='relu', strides=1)(conv)\n",
    "conv = MaxPooling1D(3)(conv)\n",
    "conv = Dropout(0.2)(conv)\n",
    "\n",
    "#Third Conv1D layer\n",
    "conv = Conv1D(32, 2, padding='valid', activation='relu', strides=1)(conv)\n",
    "conv = MaxPooling1D(1)(conv)\n",
    "conv = Dropout(0.2)(conv)\n",
    "\n",
    "#Fourth Conv1D layer\n",
    "conv = Conv1D(64, 1, padding='valid', activation='relu', strides=1)(conv)\n",
    "conv = MaxPooling1D(1)(conv)\n",
    "conv = Dropout(0.2)(conv)\n",
    "\n",
    "#Flatten layer\n",
    "conv = Flatten()(conv)\n",
    "\n",
    "#Dense Layer 1\n",
    "conv = Dense(256, activation='relu')(conv)\n",
    "conv = Dropout(0.2)(conv)\n",
    "\n",
    "#Dense Layer 2\n",
    "conv = Dense(128, activation='relu')(conv)\n",
    "conv = Dropout(0.2)(conv)\n",
    "\n",
    "outputs = Dense(len(labels), activation='softmax')(conv)\n",
    "\n",
    "model = Model(inputs, outputs)\n",
    "model.summary()"
   ]
  },
  {
   "cell_type": "code",
   "execution_count": null,
   "metadata": {
    "execution": {
     "iopub.execute_input": "2021-10-03T11:58:54.398168Z",
     "iopub.status.busy": "2021-10-03T11:58:54.397275Z",
     "iopub.status.idle": "2021-10-03T11:58:54.404072Z",
     "shell.execute_reply": "2021-10-03T11:58:54.404470Z",
     "shell.execute_reply.started": "2021-10-03T06:01:53.311867Z"
    },
    "papermill": {
     "duration": 0.56259,
     "end_time": "2021-10-03T11:58:54.404614",
     "exception": false,
     "start_time": "2021-10-03T11:58:53.842024",
     "status": "completed"
    },
    "tags": []
   },
   "outputs": [],
   "source": [
    "model.compile(loss='categorical_crossentropy',optimizer='adam',metrics=['accuracy'])"
   ]
  },
  {
   "cell_type": "code",
   "execution_count": null,
   "metadata": {
    "execution": {
     "iopub.execute_input": "2021-10-03T11:58:55.484744Z",
     "iopub.status.busy": "2021-10-03T11:58:55.484192Z",
     "iopub.status.idle": "2021-10-03T11:58:55.488042Z",
     "shell.execute_reply": "2021-10-03T11:58:55.487548Z",
     "shell.execute_reply.started": "2021-10-03T06:01:53.329373Z"
    },
    "papermill": {
     "duration": 0.549116,
     "end_time": "2021-10-03T11:58:55.488143",
     "exception": false,
     "start_time": "2021-10-03T11:58:54.939027",
     "status": "completed"
    },
    "tags": []
   },
   "outputs": [],
   "source": [
    "es = EarlyStopping(monitor='val_loss', mode='min', verbose=1, patience=10, min_delta=0.00001) \n",
    "mc = ModelCheckpoint('best_model.hdf5', monitor='val_accuracy', verbose=1, save_best_only=True, mode='max')"
   ]
  },
  {
   "cell_type": "code",
   "execution_count": null,
   "metadata": {
    "execution": {
     "iopub.execute_input": "2021-10-03T11:58:56.568852Z",
     "iopub.status.busy": "2021-10-03T11:58:56.568198Z",
     "iopub.status.idle": "2021-10-03T12:03:25.586792Z",
     "shell.execute_reply": "2021-10-03T12:03:25.587357Z",
     "shell.execute_reply.started": "2021-10-03T06:01:53.337927Z"
    },
    "papermill": {
     "duration": 269.559227,
     "end_time": "2021-10-03T12:03:25.587542",
     "exception": false,
     "start_time": "2021-10-03T11:58:56.028315",
     "status": "completed"
    },
    "scrolled": true,
    "tags": []
   },
   "outputs": [],
   "source": [
    "history=model.fit(x_tr, y_tr ,epochs=100, callbacks=[es,mc], batch_size=32, validation_data=(x_val,y_val))"
   ]
  },
  {
   "cell_type": "code",
   "execution_count": null,
   "metadata": {},
   "outputs": [],
   "source": [
    "import torch.nn.functional as F\n",
    "from torch.nn import init\n",
    "import torch\n",
    "from torch import nn\n",
    "\n",
    "# ----------------------------\n",
    "# Audio Classification Model\n",
    "# ----------------------------\n",
    "class AudioClassifier (nn.Module):\n",
    "    # ----------------------------\n",
    "    # Build the model architecture\n",
    "    # ----------------------------\n",
    "    def __init__(self):\n",
    "        super().__init__()\n",
    "        conv_layers = []\n",
    "\n",
    "        # First Convolution Block with Relu and Batch Norm. Use Kaiming Initialization\n",
    "        self.conv1 = nn.Conv2d(2, 8, kernel_size=(5, 5), stride=(2, 2), padding=(2, 2))\n",
    "        self.relu1 = nn.ReLU()\n",
    "        self.bn1 = nn.BatchNorm2d(8)\n",
    "        init.kaiming_normal_(self.conv1.weight, a=0.1)\n",
    "        self.conv1.bias.data.zero_()\n",
    "        conv_layers += [self.conv1, self.relu1, self.bn1]\n",
    "\n",
    "        # Second Convolution Block\n",
    "        self.conv2 = nn.Conv2d(8, 16, kernel_size=(3, 3), stride=(2, 2), padding=(1, 1))\n",
    "        self.relu2 = nn.ReLU()\n",
    "        self.bn2 = nn.BatchNorm2d(16)\n",
    "        init.kaiming_normal_(self.conv2.weight, a=0.1)\n",
    "        self.conv2.bias.data.zero_()\n",
    "        conv_layers += [self.conv2, self.relu2, self.bn2]\n",
    "\n",
    "        # Second Convolution Block\n",
    "        self.conv3 = nn.Conv2d(16, 32, kernel_size=(3, 3), stride=(2, 2), padding=(1, 1))\n",
    "        self.relu3 = nn.ReLU()\n",
    "        self.bn3 = nn.BatchNorm2d(32)\n",
    "        init.kaiming_normal_(self.conv3.weight, a=0.1)\n",
    "        self.conv3.bias.data.zero_()\n",
    "        conv_layers += [self.conv3, self.relu3, self.bn3]\n",
    "\n",
    "        # Second Convolution Block\n",
    "        self.conv4 = nn.Conv2d(32, 64, kernel_size=(3, 3), stride=(2, 2), padding=(1, 1))\n",
    "        self.relu4 = nn.ReLU()\n",
    "        self.bn4 = nn.BatchNorm2d(64)\n",
    "        init.kaiming_normal_(self.conv4.weight, a=0.1)\n",
    "        self.conv4.bias.data.zero_()\n",
    "        conv_layers += [self.conv4, self.relu4, self.bn4]\n",
    "\n",
    "        # Linear Classifier\n",
    "        self.ap = nn.AdaptiveAvgPool2d(output_size=1)\n",
    "        self.lin = nn.Linear(in_features=64, out_features=10)\n",
    "\n",
    "        # Wrap the Convolutional Blocks\n",
    "        self.conv = nn.Sequential(*conv_layers)\n",
    " \n",
    "    # ----------------------------\n",
    "    # Forward pass computations\n",
    "    # ----------------------------\n",
    "    def forward(self, x):\n",
    "        # Run the convolutional blocks\n",
    "        x = self.conv(x)\n",
    "\n",
    "        # Adaptive pool and flatten for input to linear layer\n",
    "        x = self.ap(x)\n",
    "        x = x.view(x.shape[0], -1)\n",
    "\n",
    "        # Linear layer\n",
    "        x = self.lin(x)\n",
    "\n",
    "        # Final output\n",
    "        return x\n",
    "\n",
    "# Create the model and put it on the GPU if available\n",
    "myModel = AudioClassifier()\n",
    "device = torch.device(\"cuda:0\" if torch.cuda.is_available() else \"cpu\")\n",
    "myModel = myModel.to(device)\n",
    "# Check that it is on Cuda\n",
    "next(myModel.parameters()).device"
   ]
  },
  {
   "cell_type": "code",
   "execution_count": null,
   "metadata": {},
   "outputs": [],
   "source": [
    "y_tr"
   ]
  },
  {
   "cell_type": "code",
   "execution_count": null,
   "metadata": {
    "execution": {
     "iopub.execute_input": "2021-10-03T12:03:29.091379Z",
     "iopub.status.busy": "2021-10-03T12:03:29.090360Z",
     "iopub.status.idle": "2021-10-03T12:03:29.243667Z",
     "shell.execute_reply": "2021-10-03T12:03:29.242847Z",
     "shell.execute_reply.started": "2021-10-03T06:07:20.837103Z"
    },
    "papermill": {
     "duration": 1.912095,
     "end_time": "2021-10-03T12:03:29.243791",
     "exception": false,
     "start_time": "2021-10-03T12:03:27.331696",
     "status": "completed"
    },
    "tags": []
   },
   "outputs": [],
   "source": [
    "from matplotlib import pyplot \n",
    "pyplot.plot(history.history['loss'], label='train') \n",
    "pyplot.plot(history.history['val_loss'], label='test') \n",
    "pyplot.legend()\n",
    "pyplot.show()"
   ]
  },
  {
   "cell_type": "code",
   "execution_count": null,
   "metadata": {
    "execution": {
     "iopub.execute_input": "2021-10-03T12:03:33.147084Z",
     "iopub.status.busy": "2021-10-03T12:03:33.146020Z",
     "iopub.status.idle": "2021-10-03T12:03:33.152513Z",
     "shell.execute_reply": "2021-10-03T12:03:33.153104Z",
     "shell.execute_reply.started": "2021-10-03T06:07:20.987242Z"
    },
    "papermill": {
     "duration": 2.080301,
     "end_time": "2021-10-03T12:03:33.153245",
     "exception": false,
     "start_time": "2021-10-03T12:03:31.072944",
     "status": "completed"
    },
    "tags": []
   },
   "outputs": [],
   "source": [
    "def predict(audio):\n",
    "    prob=model.predict(audio.reshape(1,8000,1))\n",
    "    index=np.argmax(prob[0])\n",
    "    return classes[index]"
   ]
  },
  {
   "cell_type": "code",
   "execution_count": null,
   "metadata": {
    "execution": {
     "iopub.execute_input": "2021-10-03T12:03:37.186168Z",
     "iopub.status.busy": "2021-10-03T12:03:37.185238Z",
     "iopub.status.idle": "2021-10-03T12:03:37.357827Z",
     "shell.execute_reply": "2021-10-03T12:03:37.358468Z",
     "shell.execute_reply.started": "2021-10-03T06:07:20.9947Z"
    },
    "papermill": {
     "duration": 1.94707,
     "end_time": "2021-10-03T12:03:37.358639",
     "exception": false,
     "start_time": "2021-10-03T12:03:35.411569",
     "status": "completed"
    },
    "tags": []
   },
   "outputs": [],
   "source": [
    "import random\n",
    "index=random.randint(0,len(x_val)-1)\n",
    "samples=x_val[index].ravel()\n",
    "print(\"Audio:\",classes[np.argmax(y_val[index])])\n",
    "ipd.Audio(samples, rate=8000)\n",
    "print(\"Text:\",predict(samples))"
   ]
  },
  {
   "cell_type": "code",
   "execution_count": null,
   "metadata": {},
   "outputs": [],
   "source": [
    "x_tr"
   ]
  },
  {
   "cell_type": "code",
   "execution_count": null,
   "metadata": {},
   "outputs": [],
   "source": [
    "import pickle\n",
    "def readObjectsFromFile(fName, objects):\n",
    "    with (open(fName, \"rb\")) as openfile:\n",
    "        while True:\n",
    "            try:\n",
    "                objects.append(pickle.load(openfile))\n",
    "            except EOFError:\n",
    "                break"
   ]
  },
  {
   "cell_type": "code",
   "execution_count": null,
   "metadata": {},
   "outputs": [],
   "source": [
    "objects = []\n",
    "readObjectsFromFile(\"MNIST_db8_3_train_test.pickle\", objects)"
   ]
  },
  {
   "cell_type": "code",
   "execution_count": null,
   "metadata": {},
   "outputs": [],
   "source": [
    "np.shape(objects[0]['x_train'])"
   ]
  },
  {
   "cell_type": "code",
   "execution_count": null,
   "metadata": {},
   "outputs": [],
   "source": [
    "np.shape(itt.flatten())"
   ]
  },
  {
   "cell_type": "code",
   "execution_count": null,
   "metadata": {},
   "outputs": [],
   "source": [
    "np.shape(objects[0]['x_test'])"
   ]
  },
  {
   "cell_type": "code",
   "execution_count": null,
   "metadata": {},
   "outputs": [],
   "source": [
    "objects[0]['x_test'] = np.asarray(objects[0]['x_test'])"
   ]
  },
  {
   "cell_type": "code",
   "execution_count": null,
   "metadata": {},
   "outputs": [],
   "source": [
    "x_test = np.empty((953,2000))\n",
    "for i in range(len(x_test)):\n",
    "    x_test[i] = x_test[i].flatten()"
   ]
  },
  {
   "cell_type": "code",
   "execution_count": null,
   "metadata": {},
   "outputs": [],
   "source": [
    "x_test = np.reshape(x_test, (953,2000,1))"
   ]
  },
  {
   "cell_type": "code",
   "execution_count": null,
   "metadata": {
    "scrolled": true
   },
   "outputs": [],
   "source": [
    "x_train"
   ]
  },
  {
   "cell_type": "code",
   "execution_count": null,
   "metadata": {},
   "outputs": [],
   "source": [
    "y_test = np.asarray(objects[0]['y_test'])"
   ]
  },
  {
   "cell_type": "code",
   "execution_count": null,
   "metadata": {},
   "outputs": [],
   "source": [
    "np.shape(y_train)"
   ]
  },
  {
   "cell_type": "code",
   "execution_count": null,
   "metadata": {},
   "outputs": [],
   "source": [
    "np.shape(y_test)"
   ]
  },
  {
   "cell_type": "code",
   "execution_count": null,
   "metadata": {},
   "outputs": [],
   "source": [
    "y_test_new = np.zeros((953, 10))\n",
    "for i in range(len(y_test)):\n",
    "    ind = y_test[i][0]\n",
    "    y_test_new[i][ind] =1 "
   ]
  },
  {
   "cell_type": "code",
   "execution_count": null,
   "metadata": {},
   "outputs": [],
   "source": [
    "y_test_new"
   ]
  },
  {
   "cell_type": "code",
   "execution_count": null,
   "metadata": {},
   "outputs": [],
   "source": [
    "sam, sr = wavfile.read('seven/b1114e4f_nohash_0.wav')"
   ]
  },
  {
   "cell_type": "code",
   "execution_count": null,
   "metadata": {},
   "outputs": [],
   "source": [
    "len(sr)"
   ]
  },
  {
   "cell_type": "code",
   "execution_count": null,
   "metadata": {},
   "outputs": [],
   "source": [
    "labels = [\"bed\", \"bird\", \"cat\", \"dog\", \"down\", \"eight\", \"five\", \"follow\", \"forward\", \"four\"]\n",
    "print(len(labels))\n",
    "lab = {}\n",
    "for i in range(len(labels)):\n",
    "    lab[labels[i]] = np.zeros((10))\n",
    "    lab[labels[i]][i] = 1"
   ]
  },
  {
   "cell_type": "code",
   "execution_count": null,
   "metadata": {},
   "outputs": [],
   "source": [
    "lab"
   ]
  },
  {
   "cell_type": "code",
   "execution_count": null,
   "metadata": {
    "scrolled": true
   },
   "outputs": [],
   "source": [
    "labels = [\"bed\", \"bird\", \"cat\", \"dog\", \"down\", \"eight\", \"five\", \"follow\", \"forward\", \"four\"]\n",
    "import pickle\n",
    "import os\n",
    "from os import listdir\n",
    "import pywt\n",
    "from pywt import dwt, wavedec\n",
    "from os.path import isfile, join\n",
    "import torch\n",
    "less = 0\n",
    "good = 0\n",
    "window_size = 2048\n",
    "hop_size =512\n",
    "allLabels = []\n",
    "# toSpec = np.zeros((7, 16000), dtype=np.float32)\n",
    "# samples, sample_rate = torchaudio.load('seven/e4b02540_nohash_0.wav')\n",
    "# # print(sam[5])\n",
    "# sam = wavedec(samples, 'db8', level=5)\n",
    "# toSpec[6] = samples.cpu().detach().numpy()\n",
    "# toSpec[5,::2] = sam[5][0][:8000]\n",
    "# toSpec[4,::4] = sam[4][0][5:4005]\n",
    "# toSpec[3,::8] = sam[3][0][6:2006]\n",
    "# toSpec[2,::16] = sam[2][0][7:1007]\n",
    "# toSpec[1,::32] = sam[1][0][7:507]\n",
    "# toSpec[0,::32] = sam[0][0][7:507]\n",
    "# # print(torch.tensor(toSpec))\n",
    "\n",
    "# mfcc = spectro_gram((torch.tensor(toSpec), sample_rate), hop_len = hop_size)\n",
    "# print(torch.nn.functional.normalize(mfcc))\n",
    "with open(\"google10wavelet.pickle\", 'wb') as handle:\n",
    "    for i in labels:\n",
    "        files = [f for f in listdir(i) if isfile(join(i, f))]\n",
    "        for j in files:\n",
    "            samples, sample_rate = torchaudio.load(os.path.join(i,j))\n",
    "            if len(samples[0]) == 16000:\n",
    "                toSpec = np.zeros((7, 16000), dtype=np.float32)\n",
    "                sam = wavedec(samples, 'db8', level=5)\n",
    "                toSpec[6] = samples.cpu().detach().numpy()\n",
    "                toSpec[5,::2] = sam[5][0][:8000]\n",
    "                toSpec[4,::4] = sam[4][0][5:4005]\n",
    "                toSpec[3,::8] = sam[3][0][6:2006]\n",
    "                toSpec[2,::16] = sam[2][0][7:1007]\n",
    "                toSpec[1,::32] = sam[1][0][7:507]\n",
    "                toSpec[0,::32] = sam[0][0][7:507]\n",
    "                mfcc = spectro_gram((torch.tensor(toSpec), sample_rate), hop_len = hop_size)\n",
    "                pickle.dump({os.path.join(i,j) : torch.nn.functional.normalize(mfcc).cpu().detach().numpy()}, handle, protocol=pickle.HIGHEST_PROTOCOL)"
   ]
  },
  {
   "cell_type": "code",
   "execution_count": null,
   "metadata": {},
   "outputs": [],
   "source": [
    "objects = []\n",
    "import pickle\n",
    "with (open(\"google10wavelet.pickle\", \"rb\")) as openfile:\n",
    "    while True:\n",
    "        try:\n",
    "            objects.append(pickle.load(openfile))\n",
    "        except EOFError:\n",
    "            break"
   ]
  },
  {
   "cell_type": "code",
   "execution_count": null,
   "metadata": {},
   "outputs": [],
   "source": [
    "np.shape(objects[0][[*objects[0]][0]])"
   ]
  },
  {
   "cell_type": "code",
   "execution_count": null,
   "metadata": {},
   "outputs": [],
   "source": [
    "np.shape(x_train_new)"
   ]
  },
  {
   "cell_type": "code",
   "execution_count": null,
   "metadata": {},
   "outputs": [],
   "source": [
    "x_train_new = np.empty((10561, 64,32))\n",
    "from sklearn.preprocessing import normalize\n",
    "for i in range(10561):\n",
    "    x_train_new[i] = (x_train[i][0]-np.mean(x_train[i][0]))/np.std(x_train[i][0])"
   ]
  },
  {
   "cell_type": "code",
   "execution_count": null,
   "metadata": {},
   "outputs": [],
   "source": [
    "x_train = []\n",
    "y_train = []\n",
    "for i in range(len(objects)):\n",
    "    tag = [*objects[i]][0].split('/')[0]\n",
    "    if tag not in (\"go\", \"happy\", \"house\", \"learn\", \"left\", \"marvin\", \"nine\", \"no\", \"off\", \"on\", \"one\", \"right\", \"seven\", \"sheila\", \"six\", \"stop\", \"three\", \"two\", \"up\", \"visual\", \"wow\", \"yes\", \"zero\"):\n",
    "        x_train.append(objects[i][[*objects[i]][0]])\n",
    "        y_train.append(lab[[*objects[i]][0].split('/')[0]])"
   ]
  },
  {
   "cell_type": "code",
   "execution_count": null,
   "metadata": {},
   "outputs": [],
   "source": [
    "import torch\n",
    "import torchaudio\n",
    "from torchaudio import transforms\n",
    "def spectro_gram(aud, n_mels=20, n_fft=2048, hop_len=None):\n",
    "    sig,sr = aud\n",
    "    top_db = 80\n",
    "    # spec has shape [channel, n_mels, time], where channel is mono, stereo etc\n",
    "    spec = transforms.MelSpectrogram(sr, n_fft=n_fft, hop_length=hop_len, n_mels=n_mels)(sig)\n",
    "\n",
    "    # Convert to decibels\n",
    "    spec = transforms.AmplitudeToDB(top_db=top_db)(spec)\n",
    "    return (spec)"
   ]
  },
  {
   "cell_type": "code",
   "execution_count": null,
   "metadata": {},
   "outputs": [],
   "source": [
    "def  block_audio(x, blockSize, hopSize, fs):\n",
    "    # allocate memory\n",
    "    numBlocks = math.ceil(x.size / hopSize)\n",
    "    xb = np.zeros([numBlocks, blockSize])\n",
    "    # compute time stamps\n",
    "    t = (np.arange(0, numBlocks) * hopSize) / fs\n",
    "    x = np.concatenate((x, np.zeros(blockSize)),axis=0)\n",
    "    for n in range(0, numBlocks):\n",
    "        i_start = n * hopSize\n",
    "        i_stop = np.min([x.size - 1, i_start + blockSize - 1])\n",
    "        xb[n][np.arange(0,blockSize)] = x[np.arange(i_start, i_stop + 1)]\n",
    "    return (xb,t)"
   ]
  },
  {
   "cell_type": "code",
   "execution_count": null,
   "metadata": {},
   "outputs": [],
   "source": [
    "###\n",
    "#1. read file\n",
    "#2. see if it's length is < 14000.\n",
    "#3. If not, pad it appropriately\n",
    "#4. find Mel spectrogram for 200 samples at a time with hop size of 100\n",
    "#5. find mel coefficients for 16000 samples at once\n",
    "#6. use 20 coefficients"
   ]
  },
  {
   "cell_type": "code",
   "execution_count": null,
   "metadata": {},
   "outputs": [],
   "source": [
    "a = [1, 2, 3, 4]\n",
    "b = np.asarray(a)"
   ]
  },
  {
   "cell_type": "code",
   "execution_count": null,
   "metadata": {},
   "outputs": [],
   "source": [
    "np.pad(b, (0,4), mode='constant', constant_values=(0))"
   ]
  },
  {
   "cell_type": "code",
   "execution_count": null,
   "metadata": {},
   "outputs": [],
   "source": [
    "for i in range(0, 10, 2):\n",
    "    print(i)"
   ]
  },
  {
   "cell_type": "code",
   "execution_count": null,
   "metadata": {},
   "outputs": [],
   "source": []
  }
 ],
 "metadata": {
  "kernelspec": {
   "display_name": "Python 3 (ipykernel)",
   "language": "python",
   "name": "python3"
  },
  "language_info": {
   "codemirror_mode": {
    "name": "ipython",
    "version": 3
   },
   "file_extension": ".py",
   "mimetype": "text/x-python",
   "name": "python",
   "nbconvert_exporter": "python",
   "pygments_lexer": "ipython3",
   "version": "3.9.5"
  },
  "papermill": {
   "duration": 865.251545,
   "end_time": "2021-10-03T12:03:39.385410",
   "environment_variables": {},
   "exception": null,
   "input_path": "__notebook__.ipynb",
   "output_path": "__notebook__.ipynb",
   "parameters": {},
   "start_time": "2021-10-03T11:49:14.133865",
   "version": "2.1.0"
  }
 },
 "nbformat": 4,
 "nbformat_minor": 4
}
