{
 "cells": [
  {
   "cell_type": "code",
   "execution_count": 35,
   "id": "00707041",
   "metadata": {},
   "outputs": [
    {
     "name": "stdout",
     "output_type": "stream",
     "text": [
      "Model: \"sequential_2\"\n",
      "_________________________________________________________________\n",
      "Layer (type)                 Output Shape              Param #   \n",
      "=================================================================\n",
      "simple_rnn_4 (SimpleRNN)     (None, 25, 50)            3550      \n",
      "_________________________________________________________________\n",
      "dropout_4 (Dropout)          (None, 25, 50)            0         \n",
      "_________________________________________________________________\n",
      "simple_rnn_5 (SimpleRNN)     (None, 25, 30)            2430      \n",
      "_________________________________________________________________\n",
      "dropout_5 (Dropout)          (None, 25, 30)            0         \n",
      "_________________________________________________________________\n",
      "simple_rnn_6 (SimpleRNN)     (None, 25, 20)            1020      \n",
      "_________________________________________________________________\n",
      "dropout_6 (Dropout)          (None, 25, 20)            0         \n",
      "_________________________________________________________________\n",
      "simple_rnn_7 (SimpleRNN)     (None, 10)                310       \n",
      "_________________________________________________________________\n",
      "dropout_7 (Dropout)          (None, 10)                0         \n",
      "_________________________________________________________________\n",
      "dense_1 (Dense)              (None, 1)                 11        \n",
      "=================================================================\n",
      "Total params: 7,321\n",
      "Trainable params: 7,321\n",
      "Non-trainable params: 0\n",
      "_________________________________________________________________\n"
     ]
    }
   ],
   "source": [
    "import numpy as np\n",
    "import pandas as pd\n",
    "import matplotlib.pyplot as plt\n",
    "import os\n",
    "import scipy\n",
    "import threading\n",
    "import python_speech_features\n",
    "from scipy.io import wavfile\n",
    "import scipy.fftpack as fft\n",
    "from scipy.signal import get_window\n",
    "import IPython.display as ipd\n",
    "import math\n",
    "%matplotlib inline\n",
    "import librosa\n",
    "import pickle\n",
    "from os import listdir\n",
    "from keras.models import Sequential\n",
    "from keras.layers import Dense\n",
    "from keras.layers import SimpleRNN\n",
    "from keras.layers import Dropout, LSTM, Conv2D, MaxPooling2D, Flatten, ConvLSTM1D\n",
    "from os.path import isfile, join\n",
    "\n",
    "inputShape = (25, 20)\n",
    "\n",
    "model = Sequential()\n",
    "\n",
    "model.add(SimpleRNN(units = 50, activation='tanh', return_sequences=True, input_shape= inputShape))\n",
    "model.add(Dropout(0.2))\n",
    "\n",
    "model.add(SimpleRNN(units = 30, activation='tanh', return_sequences=True))\n",
    "model.add(Dropout(0.2))\n",
    "\n",
    "model.add(SimpleRNN(units = 20, activation='tanh', return_sequences=True))\n",
    "model.add(Dropout(0.2))\n",
    "\n",
    "model.add(SimpleRNN(units = 10))\n",
    "model.add(Dropout(0.2))\n",
    "\n",
    "model.add(Dense(units = 1))\n",
    "\n",
    "model.compile(optimizer='adam', loss='mean_squared_error')\n",
    "model.summary()"
   ]
  },
  {
   "cell_type": "code",
   "execution_count": 2,
   "id": "83957268",
   "metadata": {},
   "outputs": [
    {
     "name": "stderr",
     "output_type": "stream",
     "text": [
      "2021-11-25 13:51:52.779223: I tensorflow/core/platform/cpu_feature_guard.cc:142] This TensorFlow binary is optimized with oneAPI Deep Neural Network Library (oneDNN) to use the following CPU instructions in performance-critical operations:  AVX2 AVX512F FMA\n",
      "To enable them in other operations, rebuild TensorFlow with the appropriate compiler flags.\n",
      "2021-11-25 13:51:53.531376: I tensorflow/core/common_runtime/gpu/gpu_device.cc:1510] Created device /job:localhost/replica:0/task:0/device:GPU:0 with 517 MB memory:  -> device: 0, name: GeForce RTX 2080 Ti, pci bus id: 0000:da:00.0, compute capability: 7.5\n"
     ]
    }
   ],
   "source": [
    "import pickle\n",
    "def readObjectsFromFile(fName, objects):\n",
    "    with (open(fName, \"rb\")) as openfile:\n",
    "        while True:\n",
    "            try:\n",
    "                objects.append(pickle.load(openfile))\n",
    "            except EOFError:\n",
    "                break\n",
    "\n",
    "objects = []\n",
    "readObjectsFromFile(\"MNIST_db8_3_train_test.pickle\", objects)\n",
    "# model.compile(optimizer='adam', loss='mean_squared_error')\n",
    "# model.fit(objects[0][\"x_train\"], y_train, epochs=10, batch_size=32)"
   ]
  },
  {
   "cell_type": "code",
   "execution_count": 14,
   "id": "88d28c2a",
   "metadata": {},
   "outputs": [],
   "source": [
    "objects[0][\"x_train\"] = np.asarray(objects[0][\"x_train\"])"
   ]
  },
  {
   "cell_type": "code",
   "execution_count": 18,
   "id": "2e017486",
   "metadata": {},
   "outputs": [
    {
     "data": {
      "text/plain": [
       "array([[2],\n",
       "       [2],\n",
       "       [2],\n",
       "       ...,\n",
       "       [8],\n",
       "       [8],\n",
       "       [8]])"
      ]
     },
     "execution_count": 18,
     "metadata": {},
     "output_type": "execute_result"
    }
   ],
   "source": [
    "objects[0][\"y_train\"]"
   ]
  },
  {
   "cell_type": "code",
   "execution_count": 36,
   "id": "adbe309e",
   "metadata": {},
   "outputs": [
    {
     "name": "stdout",
     "output_type": "stream",
     "text": [
      "Epoch 1/10\n",
      "1173/1173 [==============================] - 97s 81ms/step - loss: 9.8763\n",
      "Epoch 2/10\n",
      "1173/1173 [==============================] - 97s 82ms/step - loss: 8.7719\n",
      "Epoch 3/10\n",
      "1173/1173 [==============================] - 96s 82ms/step - loss: 8.6012\n",
      "Epoch 4/10\n",
      "1173/1173 [==============================] - 97s 83ms/step - loss: 8.5195\n",
      "Epoch 5/10\n",
      "1173/1173 [==============================] - 97s 83ms/step - loss: 8.3208\n",
      "Epoch 6/10\n",
      "1173/1173 [==============================] - 96s 82ms/step - loss: 8.4395\n",
      "Epoch 7/10\n",
      "1173/1173 [==============================] - 96s 82ms/step - loss: 8.6040\n",
      "Epoch 8/10\n",
      "1173/1173 [==============================] - 96s 82ms/step - loss: 8.2247\n",
      "Epoch 9/10\n",
      "1173/1173 [==============================] - 99s 84ms/step - loss: 8.0415\n",
      "Epoch 10/10\n",
      "1173/1173 [==============================] - 98s 84ms/step - loss: 7.9977\n"
     ]
    },
    {
     "data": {
      "text/plain": [
       "<keras.callbacks.History at 0x7ff1ff8b2400>"
      ]
     },
     "execution_count": 36,
     "metadata": {},
     "output_type": "execute_result"
    }
   ],
   "source": [
    "model.fit(xTrain, yTrain, epochs=10, batch_size=32)"
   ]
  },
  {
   "cell_type": "code",
   "execution_count": 41,
   "id": "59d72d10",
   "metadata": {},
   "outputs": [],
   "source": [
    "objects[0][\"x_test\"] = np.asarray(objects[0][\"x_test\"])"
   ]
  },
  {
   "cell_type": "code",
   "execution_count": 42,
   "id": "93796f27",
   "metadata": {},
   "outputs": [],
   "source": [
    "xTest = np.empty((953*4, 25, 20))\n",
    "xInd = 0\n",
    "yTest = np.empty((953*4,1))\n",
    "for i in range(len(objects[0][\"x_test\"])):\n",
    "    xTest[xInd] = objects[0][\"x_test\"][i,:,0,:]\n",
    "    xTest[xInd+1] = objects[0][\"x_test\"][i,:,1,:]\n",
    "    xTest[xInd+2] = objects[0][\"x_test\"][i,:,2,:]\n",
    "    xTest[xInd+3] = objects[0][\"x_test\"][i,:,3,:]\n",
    "    yTest[xInd] = objects[0][\"y_test\"][i]\n",
    "    yTest[xInd+1] = objects[0][\"y_test\"][i]\n",
    "    yTest[xInd+2] = objects[0][\"y_test\"][i]\n",
    "    yTest[xInd+3] = objects[0][\"y_test\"][i]\n",
    "    xInd+=4"
   ]
  },
  {
   "cell_type": "code",
   "execution_count": 45,
   "id": "7d3c3fd5",
   "metadata": {},
   "outputs": [],
   "source": [
    "preds = model.predict(xTest)"
   ]
  },
  {
   "cell_type": "code",
   "execution_count": 46,
   "id": "f7594429",
   "metadata": {},
   "outputs": [
    {
     "data": {
      "text/plain": [
       "3812"
      ]
     },
     "execution_count": 46,
     "metadata": {},
     "output_type": "execute_result"
    }
   ],
   "source": [
    "len(preds)"
   ]
  },
  {
   "cell_type": "code",
   "execution_count": 51,
   "id": "fcb73111",
   "metadata": {},
   "outputs": [],
   "source": [
    "tot = 0\n",
    "for i in range(3812):\n",
    "    if np.round(yTest[i]-preds[i]) != 0:\n",
    "        tot+=1"
   ]
  },
  {
   "cell_type": "code",
   "execution_count": 52,
   "id": "966c8473",
   "metadata": {},
   "outputs": [
    {
     "data": {
      "text/plain": [
       "0.8753934942287513"
      ]
     },
     "execution_count": 52,
     "metadata": {},
     "output_type": "execute_result"
    }
   ],
   "source": [
    "tot/3812"
   ]
  },
  {
   "cell_type": "code",
   "execution_count": null,
   "id": "1bb4f23e",
   "metadata": {},
   "outputs": [],
   "source": []
  }
 ],
 "metadata": {
  "kernelspec": {
   "display_name": "Python 3 (clean)",
   "language": "python",
   "name": "python3_clean"
  },
  "language_info": {
   "codemirror_mode": {
    "name": "ipython",
    "version": 3
   },
   "file_extension": ".py",
   "mimetype": "text/x-python",
   "name": "python",
   "nbconvert_exporter": "python",
   "pygments_lexer": "ipython3",
   "version": "3.9.5"
  }
 },
 "nbformat": 4,
 "nbformat_minor": 5
}
